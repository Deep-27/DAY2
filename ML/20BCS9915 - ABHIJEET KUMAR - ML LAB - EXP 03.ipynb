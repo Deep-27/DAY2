{
 "cells": [
  {
   "cell_type": "code",
   "execution_count": 10,
   "id": "8bf36349",
   "metadata": {},
   "outputs": [
    {
     "name": "stdout",
     "output_type": "stream",
     "text": [
      "Estimated coefficient: \n",
      "b_0 = 1.2363636363636363         \n",
      "b_1 = 1.1696969696969697\n"
     ]
    },
    {
     "data": {
      "image/png": "[encoded data removed]",
      "text/plain": [
       "<Figure size 432x288 with 1 Axes>"
      ]
     },
     "metadata": {
      "needs_background": "light"
     },
     "output_type": "display_data"
    }
   ],
   "source": [
    "import numpy as np\n",
    "import matplotlib.pyplot as plt\n",
    "\n",
    "def estimate_coef(x,y):\n",
    "    # number of observations/points\n",
    "    n = np.size(x)\n",
    "    \n",
    "    # mean of x and y vector\n",
    "    m_x = np.mean(x)\n",
    "    m_y = np.mean(y)\n",
    "    \n",
    "    # calculating cross-deviation and deviation about x\n",
    "    SS_xy = np.sum(y*x) - n*m_y*m_x\n",
    "    SS_xx = np.sum(x*x) - n*m_x*m_x\n",
    "    \n",
    "    b_1 = SS_xy / SS_xx\n",
    "    b_0 = m_y - b_1 * m_x\n",
    "    \n",
    "    return(b_0, b_1)\n",
    "\n",
    "def plot_regression_line(x, y, b):\n",
    "    plt.scatter(x, y, color = \"r\", marker = \"o\",s = 40 )\n",
    "\n",
    "    # predict response vector\n",
    "    y_pred = b[0] + b[1]*x\n",
    "    \n",
    "    #plotting the regression line \n",
    "    plt.plot(x, y_pred, color = \"g\")\n",
    "    \n",
    "    # putting lables\n",
    "    plt.xlabel('x')\n",
    "    plt.ylabel('y')\n",
    "    \n",
    "    # funcyion to show plot\n",
    "    plt.show()\n",
    "    \n",
    "def main():\n",
    "    # observation / data\n",
    "    x = np.array([0,1,2,3,4,5,6,7,8,9])\n",
    "    y = np.array([1,3,2,5,7,8,8,9,10,12])\n",
    "    \n",
    "    # estimating coefficients\n",
    "    b = estimate_coef(x,y)\n",
    "    print(\"Estimated coefficient: \\nb_0 = {} \\\n",
    "        \\nb_1 = {}\".format(b[0],b[1]))\n",
    "        \n",
    "    # plotting regression line \n",
    "    plot_regression_line(x, y, b)\n",
    "        \n",
    "if __name__ == \"__main__\":\n",
    "    main()\n",
    "    \n",
    "    "
   ]
  },
  {
   "cell_type": "code",
   "execution_count": null,
   "id": "70907a15",
   "metadata": {},
   "outputs": [],
   "source": []
  },
  {
   "cell_type": "code",
   "execution_count": null,
   "id": "9370e78b",
   "metadata": {},
   "outputs": [],
   "source": []
  },
  {
   "cell_type": "code",
   "execution_count": null,
   "id": "40a8388a",
   "metadata": {},
   "outputs": [],
   "source": []
  }
 ],
 "metadata": {
  "kernelspec": {
   "display_name": "Python 3 (ipykernel)",
   "language": "python",
   "name": "python3"
  },
  "language_info": {
   "codemirror_mode": {
    "name": "ipython",
    "version": 3
   },
   "file_extension": ".py",
   "mimetype": "text/x-python",
   "name": "python",
   "nbconvert_exporter": "python",
   "pygments_lexer": "ipython3",
   "version": "3.9.12"
  }
 },
 "nbformat": 4,
 "nbformat_minor": 5
}
